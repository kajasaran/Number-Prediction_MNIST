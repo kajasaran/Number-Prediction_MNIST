{
 "cells": [
  {
   "cell_type": "markdown",
   "metadata": {},
   "source": [
    "# Introduction"
   ]
  },
  {
   "cell_type": "markdown",
   "metadata": {},
   "source": [
    "### What is regression?\n",
    "\n",
    " Regression is a process in which we determine the relation between two variables for example the relation between year and car sales, it might increase or decrease with year."
   ]
  },
  {
   "cell_type": "markdown",
   "metadata": {},
   "source": [
    "### What is linear regression? \n",
    "In linear regression the output is continuous and might have infinite possible outcomes.\n",
    "                                          \n",
    "                                          equation-y=mx+c\n",
    "\n"
   ]
  },
  {
   "cell_type": "markdown",
   "metadata": {},
   "source": [
    "### What is logistic regression?\n",
    "logistic regression has only two outcomes.The output is either 1 or 0, which shows occured or not.\n",
    "\n",
    "                                          equation-y=e^x + e^-x"
   ]
  },
  {
   "cell_type": "markdown",
   "metadata": {},
   "source": [
    "Here we shall see how to implement logistic regression to predict the digit based on data from MNIST dataset. It contains handwritten digits which are converted into pixels and the values with respect to each pixel is given to us, all these pixels are labelled.This dataset is divided into two parts test and train.\n",
    "\n",
    "We shall predict the digit with respect to the pixels using logistic regression\n",
    "\n",
    "The following steps are followed:  \n",
    "  import our data  \n",
    "  divide it into test and train  \n",
    "  remove the predictor column  \n",
    "  use train data to train the logistic regression model  \n",
    "  use test data to validate the model\n"
   ]
  },
  {
   "cell_type": "markdown",
   "metadata": {},
   "source": [
    "## Logistic regression using only one multinomial logistic regression function"
   ]
  },
  {
   "cell_type": "markdown",
   "metadata": {},
   "source": [
    "### Import all the necessary libraries"
   ]
  },
  {
   "cell_type": "code",
   "execution_count": 1,
   "metadata": {},
   "outputs": [],
   "source": [
    "import numpy as np\n",
    "import matplotlib.pyplot as plt\n",
    "import pandas as pd\n",
    "import os\n",
    "import csv\n",
    "from sklearn.linear_model import LogisticRegression\n",
    "import warnings\n",
    "warnings.filterwarnings(\"ignore\")"
   ]
  },
  {
   "cell_type": "markdown",
   "metadata": {},
   "source": [
    "### Load the dataset "
   ]
  },
  {
   "cell_type": "code",
   "execution_count": 2,
   "metadata": {},
   "outputs": [],
   "source": [
    "currentWd=os.getcwd()\n",
    "#reading the data\n",
    "\n",
    "train=os.path.join(currentWd,'mnist_train.csv')\n",
    "test=os.path.join(currentWd,'mnist_test.csv')"
   ]
  },
  {
   "cell_type": "code",
   "execution_count": 3,
   "metadata": {},
   "outputs": [],
   "source": [
    "train=np.loadtxt(train,delimiter=\",\")\n",
    "test=np.loadtxt(test,delimiter=\",\")"
   ]
  },
  {
   "cell_type": "markdown",
   "metadata": {},
   "source": [
    "### Divide the dataset into test and train"
   ]
  },
  {
   "cell_type": "code",
   "execution_count": 4,
   "metadata": {},
   "outputs": [],
   "source": [
    "x_train=train[:,1:785]\n",
    "x_test=test[:,1:785]\n",
    "y_train=train[:,0]\n",
    "y_test=test[:,0]\n",
    "\n"
   ]
  },
  {
   "cell_type": "markdown",
   "metadata": {},
   "source": [
    "### Print MNIST numbers"
   ]
  },
  {
   "cell_type": "code",
   "execution_count": 5,
   "metadata": {
    "scrolled": false
   },
   "outputs": [
    {
     "data": {
      "image/png": "[encoded data removed]",
      "text/plain": [
       "<Figure size 432x288 with 1 Axes>"
      ]
     },
     "metadata": {
      "needs_background": "light"
     },
     "output_type": "display_data"
    },
    {
     "data": {
      "image/png": "[encoded data removed]",
      "text/plain": [
       "<Figure size 432x288 with 1 Axes>"
      ]
     },
     "metadata": {
      "needs_background": "light"
     },
     "output_type": "display_data"
    },
    {
     "data": {
      "image/png": "[encoded data removed]",
      "text/plain": [
       "<Figure size 432x288 with 1 Axes>"
      ]
     },
     "metadata": {
      "needs_background": "light"
     },
     "output_type": "display_data"
    },
    {
     "data": {
      "image/png": "[encoded data removed]",
      "text/plain": [
       "<Figure size 432x288 with 1 Axes>"
      ]
     },
     "metadata": {
      "needs_background": "light"
     },
     "output_type": "display_data"
    },
    {
     "data": {
      "image/png": "[encoded data removed]",
      "text/plain": [
       "<Figure size 432x288 with 1 Axes>"
      ]
     },
     "metadata": {
      "needs_background": "light"
     },
     "output_type": "display_data"
    },
    {
     "data": {
      "image/png": "[encoded data removed]",
      "text/plain": [
       "<Figure size 432x288 with 1 Axes>"
      ]
     },
     "metadata": {
      "needs_background": "light"
     },
     "output_type": "display_data"
    },
    {
     "data": {
      "image/png": "[encoded data removed]",
      "text/plain": [
       "<Figure size 432x288 with 1 Axes>"
      ]
     },
     "metadata": {
      "needs_background": "light"
     },
     "output_type": "display_data"
    },
    {
     "data": {
      "image/png": "[encoded data removed]",
      "text/plain": [
       "<Figure size 432x288 with 1 Axes>"
      ]
     },
     "metadata": {
      "needs_background": "light"
     },
     "output_type": "display_data"
    },
    {
     "data": {
      "image/png": "[encoded data removed]",
      "text/plain": [
       "<Figure size 432x288 with 1 Axes>"
      ]
     },
     "metadata": {
      "needs_background": "light"
     },
     "output_type": "display_data"
    },
    {
     "data": {
      "image/png": "[encoded data removed]",
      "text/plain": [
       "<Figure size 432x288 with 1 Axes>"
      ]
     },
     "metadata": {
      "needs_background": "light"
     },
     "output_type": "display_data"
    }
   ],
   "source": [
    "#Here we are printing the images from the train dataset\n",
    "for i in range(10):\n",
    "    image=x_train[i].reshape((28,28))\n",
    "    plt.imshow(image,cmap=\"Greys\")\n",
    "    plt.show()"
   ]
  },
  {
   "cell_type": "markdown",
   "metadata": {},
   "source": [
    "### Implementing the model"
   ]
  },
  {
   "cell_type": "code",
   "execution_count": 6,
   "metadata": {},
   "outputs": [
    {
     "data": {
      "text/plain": [
       "LogisticRegression(C=20, class_weight=None, dual=False, fit_intercept=True,\n",
       "          intercept_scaling=1, max_iter=100, multi_class='multinomial',\n",
       "          n_jobs=None, penalty='l2', random_state=None, solver='lbfgs',\n",
       "          tol=0.0001, verbose=0, warm_start=False)"
      ]
     },
     "execution_count": 6,
     "metadata": {},
     "output_type": "execute_result"
    }
   ],
   "source": [
    "#implementing the model\n",
    "lr = LogisticRegression(C=20, solver='lbfgs', multi_class='multinomial')\n",
    "lr.fit(x_train, y_train)"
   ]
  },
  {
   "cell_type": "markdown",
   "metadata": {},
   "source": [
    "### Predicting the values of x test using the model we we trianed before"
   ]
  },
  {
   "cell_type": "code",
   "execution_count": 7,
   "metadata": {},
   "outputs": [],
   "source": [
    "preds = lr.predict(x_test)"
   ]
  },
  {
   "cell_type": "markdown",
   "metadata": {},
   "source": [
    "### Confusion matrix\n",
    "\n",
    "Here all the diagonal values represent the true values which are correct and the rest of them are false values, which the model predicted as a certain number."
   ]
  },
  {
   "cell_type": "code",
   "execution_count": 8,
   "metadata": {},
   "outputs": [
    {
     "data": {
      "text/plain": [
       "array([[ 961,    0,    1,    3,    1,    3,    5,    4,    2,    0],\n",
       "       [   0, 1113,    3,    3,    0,    1,    3,    2,   10,    0],\n",
       "       [   4,   10,  927,   15,    6,    4,   13,    8,   42,    3],\n",
       "       [   4,    1,   21,  914,    1,   24,    4,   10,   24,    7],\n",
       "       [   1,    1,    7,    3,  907,    0,    9,    8,   10,   36],\n",
       "       [  11,    2,    2,   35,   11,  774,   12,    6,   33,    6],\n",
       "       [   9,    3,    8,    3,    8,   17,  907,    2,    1,    0],\n",
       "       [   1,    6,   24,    7,    7,    1,    0,  950,    3,   29],\n",
       "       [   8,    8,    7,   24,    6,   23,   10,   10,  869,    9],\n",
       "       [   9,    7,    0,   11,   24,    6,    0,   22,    8,  922]])"
      ]
     },
     "execution_count": 8,
     "metadata": {},
     "output_type": "execute_result"
    }
   ],
   "source": [
    "from sklearn import metrics\n",
    "cnf_matrix = metrics.confusion_matrix(y_test,preds)\n",
    "cnf_matrix"
   ]
  },
  {
   "cell_type": "markdown",
   "metadata": {},
   "source": [
    "### Plot the predicted values and verify with test label\n",
    "Here we are ploting the predicted values with repect to their labels so we can identify which were true and false. "
   ]
  },
  {
   "cell_type": "code",
   "execution_count": 9,
   "metadata": {},
   "outputs": [
    {
     "data": {
      "image/png": "[encoded data removed]",
      "text/plain": [
       "<Figure size 1296x1440 with 25 Axes>"
      ]
     },
     "metadata": {
      "needs_background": "light"
     },
     "output_type": "display_data"
    }
   ],
   "source": [
    "fig, axis = plt.subplots(5, 5, figsize=(18, 20))\n",
    "\n",
    "for i, a in enumerate(axis.flat):\n",
    "    a.imshow(x_test[i].reshape(28, 28), cmap='binary')\n",
    "    a.set(title = \"Predicted digit {0}\\nTrue digit {1}\".format(preds[i], y_test[i]))\n",
    "    \n",
    "    "
   ]
  },
  {
   "cell_type": "markdown",
   "metadata": {},
   "source": [
    "### Building multiple models\n",
    "Here we shall build multiple models, in our case we will be building 10 different models and validate our data on it."
   ]
  },
  {
   "cell_type": "code",
   "execution_count": 10,
   "metadata": {},
   "outputs": [],
   "source": [
    "#reading the dataset\n",
    "mnist_train = pd.read_csv(\"/Users/sarankaja/downloads/MNIST-data/mnist_train.csv\")\n",
    "mnist_test=pd.read_csv(\"/Users/sarankaja/downloads/MNIST-data/mnist_test.csv\")"
   ]
  },
  {
   "cell_type": "code",
   "execution_count": 11,
   "metadata": {},
   "outputs": [],
   "source": [
    "mnist_train=mnist_train.rename ({'5':'label'},axis=1)\n",
    "mnist_test=mnist_test.rename ({'7':'label'},axis=1)"
   ]
  },
  {
   "cell_type": "markdown",
   "metadata": {},
   "source": [
    "### Changing the values for all the predictor variables  \n",
    "Here we are changing the label values with respect to each number, where we are allocating one, if the number appeared and the rest as zero. With which we get 10 differnt y columns and we are using each one of them to train our model."
   ]
  },
  {
   "cell_type": "code",
   "execution_count": 12,
   "metadata": {},
   "outputs": [],
   "source": [
    "ytrain0=pd.DataFrame([1 if x==0 else 0 for x in mnist_train['label']])\n",
    "\n",
    "ytrain1=pd.DataFrame([1 if x==1 else 0 for x in mnist_train['label']])\n",
    "\n",
    "ytrain2=pd.DataFrame([1 if x==2 else 0 for x in mnist_train['label']])\n",
    "\n",
    "ytrain3=pd.DataFrame([1 if x==3 else 0 for x in mnist_train['label']])\n",
    "\n",
    "ytrain4=pd.DataFrame([1 if x==4 else 0 for x in mnist_train['label']])\n",
    "\n",
    "ytrain5=pd.DataFrame([1 if x==5 else 0 for x in mnist_train['label']])\n",
    "\n",
    "ytrain6=pd.DataFrame([1 if x==6 else 0 for x in mnist_train['label']])\n",
    "\n",
    "ytrain7=pd.DataFrame([1 if x==7 else 0 for x in mnist_train['label']])\n",
    "\n",
    "ytrain8=pd.DataFrame([1 if x==8 else 0 for x in mnist_train['label']])\n",
    "\n",
    "ytrain9=pd.DataFrame([1 if x==9 else 0 for x in mnist_train['label']])"
   ]
  },
  {
   "cell_type": "markdown",
   "metadata": {},
   "source": [
    "### Allocating test and train datasets"
   ]
  },
  {
   "cell_type": "code",
   "execution_count": 13,
   "metadata": {},
   "outputs": [],
   "source": [
    "x_train=mnist_train.loc[:, mnist_train.columns != 'label']\n",
    "y_train=mnist_train['label']"
   ]
  },
  {
   "cell_type": "code",
   "execution_count": 14,
   "metadata": {},
   "outputs": [],
   "source": [
    "x_test=mnist_test.loc[:, mnist_test.columns != 'label']\n",
    "y_test=mnist_test['label']"
   ]
  },
  {
   "cell_type": "markdown",
   "metadata": {},
   "source": [
    "### Implementing logistic regression\n",
    "Here we are implementing 10 different models using each number which ends up to be multinomial probabilistic regression.\n",
    "\n",
    "we are predicting the probabilistic value on x test based on the model we trained above,and taking only probabilities curresponding to 1\n",
    "\n",
    "we repeat the process for all the 10 numbers"
   ]
  },
  {
   "cell_type": "code",
   "execution_count": 15,
   "metadata": {},
   "outputs": [],
   "source": [
    "#Lr for 0\n",
    "#c is the regularization function, we are using ibfgs as it is a multinomial\n",
    "lr = LogisticRegression(C=20, solver='lbfgs', multi_class='multinomial')\n",
    "lr.fit(x_train, ytrain0)\n",
    "\n",
    "#we are predicting the probabilistic value on x test based on the model we trained above,and taking only probabilities curresponding to 1\n",
    "preds0 = lr.predict_proba(x_test)[:, 1]\n",
    "score0=lr.score(x_test,y_test)"
   ]
  },
  {
   "cell_type": "code",
   "execution_count": 16,
   "metadata": {},
   "outputs": [],
   "source": [
    "#Lr for 1\n",
    "lr = LogisticRegression(C=20, solver='lbfgs', multi_class='multinomial')\n",
    "lr.fit(x_train, ytrain1)\n",
    "preds1 = lr.predict_proba(x_test)[:, 1]\n",
    "score1=lr.score(x_test,y_test)"
   ]
  },
  {
   "cell_type": "code",
   "execution_count": 17,
   "metadata": {},
   "outputs": [],
   "source": [
    "#Lr for 2\n",
    "lr = LogisticRegression(C=20, solver='lbfgs', multi_class='multinomial')\n",
    "lr.fit(x_train, ytrain2)\n",
    "preds2 = lr.predict_proba(x_test)[:, 1]\n",
    "score2=lr.score(x_test,y_test)"
   ]
  },
  {
   "cell_type": "code",
   "execution_count": 18,
   "metadata": {},
   "outputs": [],
   "source": [
    "#Lr for 3\n",
    "lr = LogisticRegression(C=20, solver='lbfgs', multi_class='multinomial')\n",
    "lr.fit(x_train, ytrain3)\n",
    "preds3 = lr.predict_proba(x_test)[:, 1]\n",
    "score3=lr.score(x_test,y_test)"
   ]
  },
  {
   "cell_type": "code",
   "execution_count": 19,
   "metadata": {},
   "outputs": [],
   "source": [
    "#Lr for 4\n",
    "lr = LogisticRegression(C=20, solver='lbfgs', multi_class='multinomial')\n",
    "lr.fit(x_train, ytrain4)\n",
    "preds4 = lr.predict_proba(x_test)[:, 1]\n",
    "score4=lr.score(x_test,y_test)"
   ]
  },
  {
   "cell_type": "code",
   "execution_count": 20,
   "metadata": {},
   "outputs": [],
   "source": [
    "#Lr for 5\n",
    "lr = LogisticRegression(C=20, solver='lbfgs', multi_class='multinomial')\n",
    "lr.fit(x_train, ytrain5)\n",
    "preds5 = lr.predict_proba(x_test)[:, 1]\n",
    "score5=lr.score(x_test,y_test)"
   ]
  },
  {
   "cell_type": "code",
   "execution_count": 21,
   "metadata": {},
   "outputs": [],
   "source": [
    "#Lr for 6\n",
    "lr = LogisticRegression(C=20, solver='lbfgs', multi_class='multinomial')\n",
    "lr.fit(x_train, ytrain6)\n",
    "preds6 = lr.predict_proba(x_test)[:, 1]\n",
    "score6=lr.score(x_test,y_test)"
   ]
  },
  {
   "cell_type": "code",
   "execution_count": 22,
   "metadata": {},
   "outputs": [],
   "source": [
    "#Lr for 7\n",
    "lr = LogisticRegression(C=20, solver='lbfgs', multi_class='multinomial')\n",
    "lr.fit(x_train, ytrain7)\n",
    "preds7 = lr.predict_proba(x_test)[:, 1]\n",
    "score7=lr.score(x_test,y_test)"
   ]
  },
  {
   "cell_type": "code",
   "execution_count": 23,
   "metadata": {},
   "outputs": [],
   "source": [
    "#Lr for 8\n",
    "lr = LogisticRegression(C=20, solver='lbfgs', multi_class='multinomial')\n",
    "lr.fit(x_train, ytrain8)\n",
    "preds8 = lr.predict_proba(x_test)[:, 1]\n",
    "score8=lr.score(x_test,y_test)"
   ]
  },
  {
   "cell_type": "code",
   "execution_count": 24,
   "metadata": {},
   "outputs": [],
   "source": [
    "#Lr for 9\n",
    "lr = LogisticRegression(C=20, solver='lbfgs', multi_class='multinomial')\n",
    "lr.fit(x_train, ytrain9)\n",
    "preds9 = lr.predict_proba(x_test)[:, 1]\n",
    "score9=lr.score(x_test,y_test)"
   ]
  },
  {
   "cell_type": "markdown",
   "metadata": {},
   "source": [
    "### We are assigning all the probabilities we predicted with respect to their column names and converting it into a dataframe"
   ]
  },
  {
   "cell_type": "code",
   "execution_count": 25,
   "metadata": {},
   "outputs": [],
   "source": [
    "predicted = pd.DataFrame({'0': preds0,'1': preds1,'2': preds2,'3': preds3, '4': preds4,'5': preds5, '6': preds6,'7': preds7, '8': preds8, '9': preds9})            \n",
    "                   "
   ]
  },
  {
   "cell_type": "markdown",
   "metadata": {},
   "source": [
    "### We are now using the softmax function to convert/normalize all the probabilities which we obtianed before, after applying this all the probabilites would fall between 0 to 1 and sum of all the probabilities will be 1"
   ]
  },
  {
   "cell_type": "code",
   "execution_count": 26,
   "metadata": {},
   "outputs": [],
   "source": [
    "import numpy as np\n",
    "\n",
    "# your solution:\n",
    "def softmax(x):\n",
    "    \"\"\"Compute softmax values for each sets of scores in x.\"\"\"\n",
    "    e_x = np.exp(x - np.max(x))\n",
    "    return e_x / e_x.sum()"
   ]
  },
  {
   "cell_type": "code",
   "execution_count": 27,
   "metadata": {},
   "outputs": [
    {
     "name": "stdout",
     "output_type": "stream",
     "text": [
      "             0         1         2         3         4         5         6  \\\n",
      "0     0.000086  0.000084  0.000234  0.000086  0.000086  0.000092  0.000087   \n",
      "1     0.000086  0.000226  0.000089  0.000087  0.000086  0.000089  0.000089   \n",
      "2     0.000232  0.000084  0.000086  0.000086  0.000086  0.000088  0.000087   \n",
      "3     0.000086  0.000084  0.000087  0.000086  0.000228  0.000088  0.000087   \n",
      "4     0.000086  0.000227  0.000087  0.000087  0.000086  0.000088  0.000086   \n",
      "5     0.000086  0.000084  0.000086  0.000086  0.000229  0.000102  0.000086   \n",
      "6     0.000086  0.000168  0.000086  0.000086  0.000087  0.000095  0.000086   \n",
      "7     0.000086  0.000084  0.000086  0.000086  0.000088  0.000089  0.000175   \n",
      "8     0.000086  0.000084  0.000086  0.000086  0.000087  0.000088  0.000086   \n",
      "9     0.000230  0.000084  0.000087  0.000086  0.000086  0.000089  0.000086   \n",
      "10    0.000086  0.000084  0.000086  0.000086  0.000086  0.000088  0.000152   \n",
      "11    0.000086  0.000084  0.000086  0.000086  0.000087  0.000088  0.000086   \n",
      "12    0.000233  0.000084  0.000087  0.000086  0.000086  0.000088  0.000086   \n",
      "13    0.000086  0.000228  0.000087  0.000089  0.000086  0.000088  0.000086   \n",
      "14    0.000086  0.000084  0.000086  0.000100  0.000086  0.000224  0.000086   \n",
      "15    0.000086  0.000084  0.000086  0.000086  0.000089  0.000088  0.000086   \n",
      "16    0.000086  0.000084  0.000086  0.000092  0.000086  0.000088  0.000086   \n",
      "17    0.000086  0.000084  0.000086  0.000086  0.000086  0.000088  0.000086   \n",
      "18    0.000086  0.000084  0.000086  0.000087  0.000232  0.000089  0.000087   \n",
      "19    0.000086  0.000084  0.000086  0.000089  0.000090  0.000088  0.000086   \n",
      "20    0.000086  0.000084  0.000087  0.000086  0.000086  0.000092  0.000229   \n",
      "21    0.000086  0.000084  0.000086  0.000086  0.000088  0.000088  0.000184   \n",
      "22    0.000086  0.000084  0.000086  0.000086  0.000090  0.000233  0.000086   \n",
      "23    0.000087  0.000084  0.000089  0.000088  0.000230  0.000088  0.000087   \n",
      "24    0.000233  0.000084  0.000086  0.000086  0.000086  0.000088  0.000087   \n",
      "25    0.000086  0.000084  0.000086  0.000086  0.000086  0.000088  0.000086   \n",
      "26    0.000086  0.000084  0.000086  0.000086  0.000233  0.000088  0.000086   \n",
      "27    0.000233  0.000084  0.000087  0.000086  0.000086  0.000088  0.000086   \n",
      "28    0.000086  0.000203  0.000087  0.000087  0.000086  0.000092  0.000088   \n",
      "29    0.000086  0.000084  0.000086  0.000232  0.000086  0.000091  0.000086   \n",
      "...        ...       ...       ...       ...       ...       ...       ...   \n",
      "9969  0.000086  0.000084  0.000094  0.000214  0.000086  0.000092  0.000088   \n",
      "9970  0.000088  0.000084  0.000232  0.000086  0.000086  0.000088  0.000086   \n",
      "9971  0.000086  0.000084  0.000086  0.000086  0.000234  0.000088  0.000087   \n",
      "9972  0.000086  0.000084  0.000086  0.000086  0.000134  0.000088  0.000086   \n",
      "9973  0.000089  0.000084  0.000086  0.000086  0.000234  0.000088  0.000094   \n",
      "9974  0.000086  0.000084  0.000139  0.000137  0.000086  0.000088  0.000086   \n",
      "9975  0.000086  0.000084  0.000087  0.000086  0.000121  0.000088  0.000229   \n",
      "9976  0.000086  0.000084  0.000086  0.000086  0.000233  0.000088  0.000086   \n",
      "9977  0.000086  0.000226  0.000089  0.000093  0.000086  0.000088  0.000086   \n",
      "9978  0.000086  0.000084  0.000086  0.000086  0.000086  0.000088  0.000086   \n",
      "9979  0.000086  0.000084  0.000092  0.000094  0.000086  0.000088  0.000086   \n",
      "9980  0.000086  0.000084  0.000088  0.000086  0.000086  0.000090  0.000231   \n",
      "9981  0.000086  0.000084  0.000088  0.000086  0.000086  0.000088  0.000096   \n",
      "9982  0.000233  0.000084  0.000086  0.000086  0.000086  0.000088  0.000086   \n",
      "9983  0.000086  0.000223  0.000087  0.000087  0.000086  0.000088  0.000086   \n",
      "9984  0.000086  0.000084  0.000207  0.000086  0.000086  0.000088  0.000086   \n",
      "9985  0.000086  0.000084  0.000087  0.000089  0.000086  0.000089  0.000086   \n",
      "9986  0.000086  0.000084  0.000086  0.000086  0.000234  0.000089  0.000086   \n",
      "9987  0.000086  0.000084  0.000086  0.000086  0.000086  0.000237  0.000086   \n",
      "9988  0.000086  0.000084  0.000086  0.000086  0.000086  0.000088  0.000235   \n",
      "9989  0.000086  0.000084  0.000086  0.000086  0.000086  0.000088  0.000086   \n",
      "9990  0.000086  0.000084  0.000086  0.000102  0.000086  0.000088  0.000086   \n",
      "9991  0.000086  0.000084  0.000086  0.000086  0.000195  0.000088  0.000086   \n",
      "9992  0.000231  0.000084  0.000086  0.000086  0.000086  0.000088  0.000086   \n",
      "9993  0.000086  0.000227  0.000093  0.000086  0.000086  0.000088  0.000087   \n",
      "9994  0.000086  0.000084  0.000234  0.000086  0.000086  0.000088  0.000086   \n",
      "9995  0.000086  0.000084  0.000087  0.000231  0.000086  0.000088  0.000086   \n",
      "9996  0.000086  0.000084  0.000086  0.000086  0.000208  0.000088  0.000086   \n",
      "9997  0.000086  0.000084  0.000086  0.000086  0.000086  0.000238  0.000086   \n",
      "9998  0.000086  0.000084  0.000086  0.000086  0.000086  0.000088  0.000234   \n",
      "\n",
      "             7         8         9  \n",
      "0     0.000086  0.000086  0.000087  \n",
      "1     0.000086  0.000088  0.000087  \n",
      "2     0.000086  0.000086  0.000087  \n",
      "3     0.000086  0.000093  0.000095  \n",
      "4     0.000088  0.000089  0.000088  \n",
      "5     0.000086  0.000184  0.000088  \n",
      "6     0.000086  0.000087  0.000230  \n",
      "7     0.000086  0.000086  0.000087  \n",
      "8     0.000103  0.000086  0.000199  \n",
      "9     0.000086  0.000091  0.000087  \n",
      "10    0.000086  0.000087  0.000087  \n",
      "11    0.000086  0.000086  0.000208  \n",
      "12    0.000086  0.000097  0.000088  \n",
      "13    0.000086  0.000087  0.000087  \n",
      "14    0.000086  0.000104  0.000087  \n",
      "15    0.000087  0.000088  0.000195  \n",
      "16    0.000233  0.000086  0.000087  \n",
      "17    0.000086  0.000086  0.000087  \n",
      "18    0.000086  0.000088  0.000098  \n",
      "19    0.000099  0.000087  0.000182  \n",
      "20    0.000086  0.000087  0.000087  \n",
      "21    0.000086  0.000086  0.000087  \n",
      "22    0.000086  0.000089  0.000087  \n",
      "23    0.000090  0.000087  0.000103  \n",
      "24    0.000086  0.000086  0.000087  \n",
      "25    0.000231  0.000086  0.000098  \n",
      "26    0.000086  0.000087  0.000098  \n",
      "27    0.000086  0.000087  0.000087  \n",
      "28    0.000086  0.000096  0.000087  \n",
      "29    0.000088  0.000086  0.000088  \n",
      "...        ...       ...       ...  \n",
      "9969  0.000086  0.000086  0.000087  \n",
      "9970  0.000086  0.000087  0.000087  \n",
      "9971  0.000086  0.000087  0.000087  \n",
      "9972  0.000087  0.000088  0.000198  \n",
      "9973  0.000086  0.000087  0.000088  \n",
      "9974  0.000086  0.000097  0.000087  \n",
      "9975  0.000086  0.000098  0.000093  \n",
      "9976  0.000086  0.000087  0.000087  \n",
      "9977  0.000086  0.000089  0.000087  \n",
      "9978  0.000230  0.000087  0.000125  \n",
      "9979  0.000086  0.000086  0.000087  \n",
      "9980  0.000086  0.000086  0.000087  \n",
      "9981  0.000086  0.000086  0.000087  \n",
      "9982  0.000086  0.000086  0.000087  \n",
      "9983  0.000086  0.000087  0.000087  \n",
      "9984  0.000086  0.000096  0.000087  \n",
      "9985  0.000086  0.000104  0.000087  \n",
      "9986  0.000086  0.000097  0.000089  \n",
      "9987  0.000086  0.000089  0.000087  \n",
      "9988  0.000086  0.000086  0.000087  \n",
      "9989  0.000233  0.000087  0.000088  \n",
      "9990  0.000086  0.000184  0.000087  \n",
      "9991  0.000086  0.000086  0.000217  \n",
      "9992  0.000086  0.000087  0.000087  \n",
      "9993  0.000086  0.000092  0.000087  \n",
      "9994  0.000086  0.000090  0.000087  \n",
      "9995  0.000086  0.000086  0.000087  \n",
      "9996  0.000086  0.000087  0.000089  \n",
      "9997  0.000086  0.000091  0.000087  \n",
      "9998  0.000086  0.000086  0.000087  \n",
      "\n",
      "[9999 rows x 10 columns]\n"
     ]
    }
   ],
   "source": [
    "#print(softmax(predicted))\n",
    "a=(softmax(predicted))\n",
    "print(a)"
   ]
  },
  {
   "cell_type": "markdown",
   "metadata": {},
   "source": [
    "### We are using the max function to find out the maximum value in each row and get its corresponding column name, as the value corresponding to the highest probability, will be the predicted output of that row."
   ]
  },
  {
   "cell_type": "code",
   "execution_count": 28,
   "metadata": {},
   "outputs": [],
   "source": [
    "ab=a.idxmax(axis=1)\n",
    "   "
   ]
  },
  {
   "cell_type": "code",
   "execution_count": 29,
   "metadata": {},
   "outputs": [],
   "source": [
    "#converting it into integer type to find confusion matrix\n",
    "ab=ab.values.astype(int)\n",
    "\n",
    "    "
   ]
  },
  {
   "cell_type": "markdown",
   "metadata": {},
   "source": [
    "### Confusion matrix\n",
    "All the diagonal numbers constitute to the true positives and rest all are false negatives.All the diagonal elements are the numbers which are present and are predicted correctly, rest all were predicted wrong."
   ]
  },
  {
   "cell_type": "code",
   "execution_count": 30,
   "metadata": {},
   "outputs": [
    {
     "data": {
      "text/plain": [
       "array([[ 956,    0,    1,    2,    1,    6,    6,    1,    5,    2],\n",
       "       [   0, 1112,    4,    1,    0,    1,    5,    1,   10,    1],\n",
       "       [   8,   11,  906,   16,    9,    9,    9,   10,   51,    3],\n",
       "       [   4,    0,   16,  911,    1,   33,    4,   11,   21,    9],\n",
       "       [   1,    2,    4,    3,  908,    3,    9,    2,   10,   40],\n",
       "       [   9,    2,    1,   34,    9,  770,   14,    6,   38,    9],\n",
       "       [   7,    3,    7,    1,    4,   20,  908,    1,    7,    0],\n",
       "       [   2,    6,   24,    4,    8,    1,    1,  942,    4,   35],\n",
       "       [   7,   11,    6,   21,   11,   38,    7,   10,  852,   11],\n",
       "       [   6,    6,    2,   11,   30,   11,    0,   25,   15,  903]])"
      ]
     },
     "execution_count": 30,
     "metadata": {},
     "output_type": "execute_result"
    }
   ],
   "source": [
    "cnf_matrix = metrics.confusion_matrix(y_test,ab)\n",
    "cnf_matrix"
   ]
  },
  {
   "cell_type": "markdown",
   "metadata": {},
   "source": [
    "### Accuracy score\n",
    "This tells us how well our model predicted"
   ]
  },
  {
   "cell_type": "code",
   "execution_count": 31,
   "metadata": {},
   "outputs": [],
   "source": [
    "from sklearn.metrics import accuracy_score\n",
    "score =accuracy_score(y_test,ab)"
   ]
  },
  {
   "cell_type": "code",
   "execution_count": 32,
   "metadata": {},
   "outputs": [
    {
     "data": {
      "text/plain": [
       "0.916891689168917"
      ]
     },
     "execution_count": 32,
     "metadata": {},
     "output_type": "execute_result"
    }
   ],
   "source": [
    "score"
   ]
  },
  {
   "cell_type": "markdown",
   "metadata": {},
   "source": [
    "### Conclusion"
   ]
  },
  {
   "cell_type": "markdown",
   "metadata": {},
   "source": [
    "We completed running and predicting the outcome digits with respect to each image with the help of multinomial probabilistic logistic regression, which yielded an accuracy score of 91.6%."
   ]
  }
 ],
 "metadata": {
  "kernelspec": {
   "display_name": "Python 3",
   "language": "python",
   "name": "python3"
  },
  "language_info": {
   "codemirror_mode": {
    "name": "ipython",
    "version": 3
   },
   "file_extension": ".py",
   "mimetype": "text/x-python",
   "name": "python",
   "nbconvert_exporter": "python",
   "pygments_lexer": "ipython3",
   "version": "3.7.3"
  }
 },
 "nbformat": 4,
 "nbformat_minor": 2
}
